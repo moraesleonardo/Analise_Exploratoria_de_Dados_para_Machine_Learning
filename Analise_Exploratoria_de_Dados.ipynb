{
  "nbformat": 4,
  "nbformat_minor": 0,
  "metadata": {
    "colab": {
      "provenance": [],
      "authorship_tag": "ABX9TyONkkJnM6zSzUIT6T4UoXsN",
      "include_colab_link": true
    },
    "kernelspec": {
      "name": "python3",
      "display_name": "Python 3"
    },
    "language_info": {
      "name": "python"
    }
  },
  "cells": [
    {
      "cell_type": "markdown",
      "metadata": {
        "id": "view-in-github",
        "colab_type": "text"
      },
      "source": [
        "<a href=\"https://colab.research.google.com/github/moraesleonardo/Analise_Exploratoria_de_Dados_para_Machine_Learning/blob/main/Analise_Exploratoria_de_Dados.ipynb\" target=\"_parent\"><img src=\"https://colab.research.google.com/assets/colab-badge.svg\" alt=\"Open In Colab\"/></a>"
      ]
    },
    {
      "cell_type": "markdown",
      "source": [
        "# Análise Exploratória de Dados\n",
        "## Iris Dataset\n",
        "\n",
        "Fonte: Dados ao Cubo (adaptado)"
      ],
      "metadata": {
        "id": "oC0HSGv55tin"
      }
    },
    {
      "cell_type": "markdown",
      "source": [
        "### Variáveis\n",
        "\n",
        "Durante o processo de amostragem(retirar uma parte da base), não coletamos apenas a informação do que realmente temos interesse, mas também muitas outras informações que nos ajudarão no entendimento dos dados e do resultado que desejamos alcançar.\n",
        "\n",
        "Cada uma das características da população amostrada, como peso, altura, sexo ou idade, é denominada de uma variável. As variáveis podem assumir valores distintos, que basicamente podemos separá-los em  Numéricos (variáveis quantitativas) ou Categóricos (variáveis qualitativas)."
      ],
      "metadata": {
        "id": "8eEO637S6efv"
      }
    },
    {
      "cell_type": "markdown",
      "source": [
        "### Classificação de variáveis\n",
        "\n",
        "As variáveis numéricas podem ser dos tipos:\n",
        "\n",
        "**Discretas**: possuem apenas valores inteiros. Ex.: número de irmãos, número de passageiros.\n",
        "\n",
        "**Contínuas**: possuem qualquer valor, incluindo  números reais(float). Ex.: peso, altura.\n",
        "\n",
        "Já as variáveis categóricas podem ser dos tipos:\n",
        "\n",
        "**Nominais**: quando as categorias não são ordenadas de alguma maneira. Ex.: nomes, cores, sexo.\n",
        "\n",
        "**Ordinais**: nesse caso as categorias podem ser ordenadas. Ex.: tamanho (pequeno, médio, grande), classe social (baixa, média, alta), grau de instrução (básico, médio, graduação, pós-graduação)."
      ],
      "metadata": {
        "id": "3aWDL20y6gAQ"
      }
    },
    {
      "cell_type": "markdown",
      "source": [
        "### Análise Exploratória de Dados ou Exploratory Data Analysis (EDA)"
      ],
      "metadata": {
        "id": "OPeAfD_x6h24"
      }
    },
    {
      "cell_type": "code",
      "source": [
        "# Importando bilbiotecas\n",
        "\n",
        "import pandas as pd \n",
        "import matplotlib.pyplot as plt\n",
        "import seaborn as sns "
      ],
      "metadata": {
        "id": "bZ2SRggf6nZY"
      },
      "execution_count": 1,
      "outputs": []
    },
    {
      "cell_type": "code",
      "execution_count": 2,
      "metadata": {
        "colab": {
          "base_uri": "https://localhost:8080/",
          "height": 345
        },
        "id": "Vaam4j7K4oRA",
        "outputId": "b982f8de-9350-45c6-aab6-1d08aa420f82"
      },
      "outputs": [
        {
          "output_type": "error",
          "ename": "FileNotFoundError",
          "evalue": "ignored",
          "traceback": [
            "\u001b[0;31m---------------------------------------------------------------------------\u001b[0m",
            "\u001b[0;31mFileNotFoundError\u001b[0m                         Traceback (most recent call last)",
            "\u001b[0;32m<ipython-input-2-bebd5e7e3089>\u001b[0m in \u001b[0;36m<cell line: 4>\u001b[0;34m()\u001b[0m\n\u001b[1;32m      2\u001b[0m \u001b[0;34m\u001b[0m\u001b[0m\n\u001b[1;32m      3\u001b[0m \u001b[0;31m# Carregando a base\u001b[0m\u001b[0;34m\u001b[0m\u001b[0;34m\u001b[0m\u001b[0m\n\u001b[0;32m----> 4\u001b[0;31m \u001b[0miris\u001b[0m \u001b[0;34m=\u001b[0m \u001b[0mpd\u001b[0m\u001b[0;34m.\u001b[0m\u001b[0mread_csv\u001b[0m\u001b[0;34m(\u001b[0m\u001b[0;34m'iris.data'\u001b[0m\u001b[0;34m,\u001b[0m \u001b[0mnames\u001b[0m\u001b[0;34m=\u001b[0m\u001b[0;34m[\u001b[0m\u001b[0;34m'sepal length (cm)'\u001b[0m\u001b[0;34m,\u001b[0m\u001b[0;34m'sepal width (cm)'\u001b[0m\u001b[0;34m,\u001b[0m\u001b[0;34m'petal length (cm)'\u001b[0m\u001b[0;34m,\u001b[0m\u001b[0;34m'petal width (cm)'\u001b[0m\u001b[0;34m,\u001b[0m\u001b[0;34m'species'\u001b[0m\u001b[0;34m]\u001b[0m\u001b[0;34m)\u001b[0m\u001b[0;34m\u001b[0m\u001b[0;34m\u001b[0m\u001b[0m\n\u001b[0m",
            "\u001b[0;32m/usr/local/lib/python3.10/dist-packages/pandas/util/_decorators.py\u001b[0m in \u001b[0;36mwrapper\u001b[0;34m(*args, **kwargs)\u001b[0m\n\u001b[1;32m    209\u001b[0m                 \u001b[0;32melse\u001b[0m\u001b[0;34m:\u001b[0m\u001b[0;34m\u001b[0m\u001b[0;34m\u001b[0m\u001b[0m\n\u001b[1;32m    210\u001b[0m                     \u001b[0mkwargs\u001b[0m\u001b[0;34m[\u001b[0m\u001b[0mnew_arg_name\u001b[0m\u001b[0;34m]\u001b[0m \u001b[0;34m=\u001b[0m \u001b[0mnew_arg_value\u001b[0m\u001b[0;34m\u001b[0m\u001b[0;34m\u001b[0m\u001b[0m\n\u001b[0;32m--> 211\u001b[0;31m             \u001b[0;32mreturn\u001b[0m \u001b[0mfunc\u001b[0m\u001b[0;34m(\u001b[0m\u001b[0;34m*\u001b[0m\u001b[0margs\u001b[0m\u001b[0;34m,\u001b[0m \u001b[0;34m**\u001b[0m\u001b[0mkwargs\u001b[0m\u001b[0;34m)\u001b[0m\u001b[0;34m\u001b[0m\u001b[0;34m\u001b[0m\u001b[0m\n\u001b[0m\u001b[1;32m    212\u001b[0m \u001b[0;34m\u001b[0m\u001b[0m\n\u001b[1;32m    213\u001b[0m         \u001b[0;32mreturn\u001b[0m \u001b[0mcast\u001b[0m\u001b[0;34m(\u001b[0m\u001b[0mF\u001b[0m\u001b[0;34m,\u001b[0m \u001b[0mwrapper\u001b[0m\u001b[0;34m)\u001b[0m\u001b[0;34m\u001b[0m\u001b[0;34m\u001b[0m\u001b[0m\n",
            "\u001b[0;32m/usr/local/lib/python3.10/dist-packages/pandas/util/_decorators.py\u001b[0m in \u001b[0;36mwrapper\u001b[0;34m(*args, **kwargs)\u001b[0m\n\u001b[1;32m    329\u001b[0m                     \u001b[0mstacklevel\u001b[0m\u001b[0;34m=\u001b[0m\u001b[0mfind_stack_level\u001b[0m\u001b[0;34m(\u001b[0m\u001b[0;34m)\u001b[0m\u001b[0;34m,\u001b[0m\u001b[0;34m\u001b[0m\u001b[0;34m\u001b[0m\u001b[0m\n\u001b[1;32m    330\u001b[0m                 )\n\u001b[0;32m--> 331\u001b[0;31m             \u001b[0;32mreturn\u001b[0m \u001b[0mfunc\u001b[0m\u001b[0;34m(\u001b[0m\u001b[0;34m*\u001b[0m\u001b[0margs\u001b[0m\u001b[0;34m,\u001b[0m \u001b[0;34m**\u001b[0m\u001b[0mkwargs\u001b[0m\u001b[0;34m)\u001b[0m\u001b[0;34m\u001b[0m\u001b[0;34m\u001b[0m\u001b[0m\n\u001b[0m\u001b[1;32m    332\u001b[0m \u001b[0;34m\u001b[0m\u001b[0m\n\u001b[1;32m    333\u001b[0m         \u001b[0;31m# error: \"Callable[[VarArg(Any), KwArg(Any)], Any]\" has no\u001b[0m\u001b[0;34m\u001b[0m\u001b[0;34m\u001b[0m\u001b[0m\n",
            "\u001b[0;32m/usr/local/lib/python3.10/dist-packages/pandas/io/parsers/readers.py\u001b[0m in \u001b[0;36mread_csv\u001b[0;34m(filepath_or_buffer, sep, delimiter, header, names, index_col, usecols, squeeze, prefix, mangle_dupe_cols, dtype, engine, converters, true_values, false_values, skipinitialspace, skiprows, skipfooter, nrows, na_values, keep_default_na, na_filter, verbose, skip_blank_lines, parse_dates, infer_datetime_format, keep_date_col, date_parser, dayfirst, cache_dates, iterator, chunksize, compression, thousands, decimal, lineterminator, quotechar, quoting, doublequote, escapechar, comment, encoding, encoding_errors, dialect, error_bad_lines, warn_bad_lines, on_bad_lines, delim_whitespace, low_memory, memory_map, float_precision, storage_options)\u001b[0m\n\u001b[1;32m    948\u001b[0m     \u001b[0mkwds\u001b[0m\u001b[0;34m.\u001b[0m\u001b[0mupdate\u001b[0m\u001b[0;34m(\u001b[0m\u001b[0mkwds_defaults\u001b[0m\u001b[0;34m)\u001b[0m\u001b[0;34m\u001b[0m\u001b[0;34m\u001b[0m\u001b[0m\n\u001b[1;32m    949\u001b[0m \u001b[0;34m\u001b[0m\u001b[0m\n\u001b[0;32m--> 950\u001b[0;31m     \u001b[0;32mreturn\u001b[0m \u001b[0m_read\u001b[0m\u001b[0;34m(\u001b[0m\u001b[0mfilepath_or_buffer\u001b[0m\u001b[0;34m,\u001b[0m \u001b[0mkwds\u001b[0m\u001b[0;34m)\u001b[0m\u001b[0;34m\u001b[0m\u001b[0;34m\u001b[0m\u001b[0m\n\u001b[0m\u001b[1;32m    951\u001b[0m \u001b[0;34m\u001b[0m\u001b[0m\n\u001b[1;32m    952\u001b[0m \u001b[0;34m\u001b[0m\u001b[0m\n",
            "\u001b[0;32m/usr/local/lib/python3.10/dist-packages/pandas/io/parsers/readers.py\u001b[0m in \u001b[0;36m_read\u001b[0;34m(filepath_or_buffer, kwds)\u001b[0m\n\u001b[1;32m    603\u001b[0m \u001b[0;34m\u001b[0m\u001b[0m\n\u001b[1;32m    604\u001b[0m     \u001b[0;31m# Create the parser.\u001b[0m\u001b[0;34m\u001b[0m\u001b[0;34m\u001b[0m\u001b[0m\n\u001b[0;32m--> 605\u001b[0;31m     \u001b[0mparser\u001b[0m \u001b[0;34m=\u001b[0m \u001b[0mTextFileReader\u001b[0m\u001b[0;34m(\u001b[0m\u001b[0mfilepath_or_buffer\u001b[0m\u001b[0;34m,\u001b[0m \u001b[0;34m**\u001b[0m\u001b[0mkwds\u001b[0m\u001b[0;34m)\u001b[0m\u001b[0;34m\u001b[0m\u001b[0;34m\u001b[0m\u001b[0m\n\u001b[0m\u001b[1;32m    606\u001b[0m \u001b[0;34m\u001b[0m\u001b[0m\n\u001b[1;32m    607\u001b[0m     \u001b[0;32mif\u001b[0m \u001b[0mchunksize\u001b[0m \u001b[0;32mor\u001b[0m \u001b[0miterator\u001b[0m\u001b[0;34m:\u001b[0m\u001b[0;34m\u001b[0m\u001b[0;34m\u001b[0m\u001b[0m\n",
            "\u001b[0;32m/usr/local/lib/python3.10/dist-packages/pandas/io/parsers/readers.py\u001b[0m in \u001b[0;36m__init__\u001b[0;34m(self, f, engine, **kwds)\u001b[0m\n\u001b[1;32m   1440\u001b[0m \u001b[0;34m\u001b[0m\u001b[0m\n\u001b[1;32m   1441\u001b[0m         \u001b[0mself\u001b[0m\u001b[0;34m.\u001b[0m\u001b[0mhandles\u001b[0m\u001b[0;34m:\u001b[0m \u001b[0mIOHandles\u001b[0m \u001b[0;34m|\u001b[0m \u001b[0;32mNone\u001b[0m \u001b[0;34m=\u001b[0m \u001b[0;32mNone\u001b[0m\u001b[0;34m\u001b[0m\u001b[0;34m\u001b[0m\u001b[0m\n\u001b[0;32m-> 1442\u001b[0;31m         \u001b[0mself\u001b[0m\u001b[0;34m.\u001b[0m\u001b[0m_engine\u001b[0m \u001b[0;34m=\u001b[0m \u001b[0mself\u001b[0m\u001b[0;34m.\u001b[0m\u001b[0m_make_engine\u001b[0m\u001b[0;34m(\u001b[0m\u001b[0mf\u001b[0m\u001b[0;34m,\u001b[0m \u001b[0mself\u001b[0m\u001b[0;34m.\u001b[0m\u001b[0mengine\u001b[0m\u001b[0;34m)\u001b[0m\u001b[0;34m\u001b[0m\u001b[0;34m\u001b[0m\u001b[0m\n\u001b[0m\u001b[1;32m   1443\u001b[0m \u001b[0;34m\u001b[0m\u001b[0m\n\u001b[1;32m   1444\u001b[0m     \u001b[0;32mdef\u001b[0m \u001b[0mclose\u001b[0m\u001b[0;34m(\u001b[0m\u001b[0mself\u001b[0m\u001b[0;34m)\u001b[0m \u001b[0;34m->\u001b[0m \u001b[0;32mNone\u001b[0m\u001b[0;34m:\u001b[0m\u001b[0;34m\u001b[0m\u001b[0;34m\u001b[0m\u001b[0m\n",
            "\u001b[0;32m/usr/local/lib/python3.10/dist-packages/pandas/io/parsers/readers.py\u001b[0m in \u001b[0;36m_make_engine\u001b[0;34m(self, f, engine)\u001b[0m\n\u001b[1;32m   1733\u001b[0m                 \u001b[0;32mif\u001b[0m \u001b[0;34m\"b\"\u001b[0m \u001b[0;32mnot\u001b[0m \u001b[0;32min\u001b[0m \u001b[0mmode\u001b[0m\u001b[0;34m:\u001b[0m\u001b[0;34m\u001b[0m\u001b[0;34m\u001b[0m\u001b[0m\n\u001b[1;32m   1734\u001b[0m                     \u001b[0mmode\u001b[0m \u001b[0;34m+=\u001b[0m \u001b[0;34m\"b\"\u001b[0m\u001b[0;34m\u001b[0m\u001b[0;34m\u001b[0m\u001b[0m\n\u001b[0;32m-> 1735\u001b[0;31m             self.handles = get_handle(\n\u001b[0m\u001b[1;32m   1736\u001b[0m                 \u001b[0mf\u001b[0m\u001b[0;34m,\u001b[0m\u001b[0;34m\u001b[0m\u001b[0;34m\u001b[0m\u001b[0m\n\u001b[1;32m   1737\u001b[0m                 \u001b[0mmode\u001b[0m\u001b[0;34m,\u001b[0m\u001b[0;34m\u001b[0m\u001b[0;34m\u001b[0m\u001b[0m\n",
            "\u001b[0;32m/usr/local/lib/python3.10/dist-packages/pandas/io/common.py\u001b[0m in \u001b[0;36mget_handle\u001b[0;34m(path_or_buf, mode, encoding, compression, memory_map, is_text, errors, storage_options)\u001b[0m\n\u001b[1;32m    854\u001b[0m         \u001b[0;32mif\u001b[0m \u001b[0mioargs\u001b[0m\u001b[0;34m.\u001b[0m\u001b[0mencoding\u001b[0m \u001b[0;32mand\u001b[0m \u001b[0;34m\"b\"\u001b[0m \u001b[0;32mnot\u001b[0m \u001b[0;32min\u001b[0m \u001b[0mioargs\u001b[0m\u001b[0;34m.\u001b[0m\u001b[0mmode\u001b[0m\u001b[0;34m:\u001b[0m\u001b[0;34m\u001b[0m\u001b[0;34m\u001b[0m\u001b[0m\n\u001b[1;32m    855\u001b[0m             \u001b[0;31m# Encoding\u001b[0m\u001b[0;34m\u001b[0m\u001b[0;34m\u001b[0m\u001b[0m\n\u001b[0;32m--> 856\u001b[0;31m             handle = open(\n\u001b[0m\u001b[1;32m    857\u001b[0m                 \u001b[0mhandle\u001b[0m\u001b[0;34m,\u001b[0m\u001b[0;34m\u001b[0m\u001b[0;34m\u001b[0m\u001b[0m\n\u001b[1;32m    858\u001b[0m                 \u001b[0mioargs\u001b[0m\u001b[0;34m.\u001b[0m\u001b[0mmode\u001b[0m\u001b[0;34m,\u001b[0m\u001b[0;34m\u001b[0m\u001b[0;34m\u001b[0m\u001b[0m\n",
            "\u001b[0;31mFileNotFoundError\u001b[0m: [Errno 2] No such file or directory: 'iris.data'"
          ]
        }
      ],
      "source": [
        "# Importando o dataset iris e executando algumas funções de análise dos dados\n",
        "\n",
        "# Carregando a base\n",
        "iris = pd.read_csv('iris.data', names=['sepal length (cm)','sepal width (cm)','petal length (cm)','petal width (cm)','species'])"
      ]
    },
    {
      "cell_type": "code",
      "source": [
        "iris"
      ],
      "metadata": {
        "colab": {
          "base_uri": "https://localhost:8080/",
          "height": 165
        },
        "id": "jWe2_Zpr6vPw",
        "outputId": "1413dc45-b90a-45cd-c075-04dbdcaade99"
      },
      "execution_count": 3,
      "outputs": [
        {
          "output_type": "error",
          "ename": "NameError",
          "evalue": "ignored",
          "traceback": [
            "\u001b[0;31m---------------------------------------------------------------------------\u001b[0m",
            "\u001b[0;31mNameError\u001b[0m                                 Traceback (most recent call last)",
            "\u001b[0;32m<ipython-input-3-2975561be2ce>\u001b[0m in \u001b[0;36m<cell line: 1>\u001b[0;34m()\u001b[0m\n\u001b[0;32m----> 1\u001b[0;31m \u001b[0miris\u001b[0m\u001b[0;34m\u001b[0m\u001b[0;34m\u001b[0m\u001b[0m\n\u001b[0m",
            "\u001b[0;31mNameError\u001b[0m: name 'iris' is not defined"
          ]
        }
      ]
    },
    {
      "cell_type": "code",
      "source": [
        "# Retornando uma amostra aleatória de X\n",
        "\n",
        "iris.sample(10) "
      ],
      "metadata": {
        "colab": {
          "base_uri": "https://localhost:8080/",
          "height": 200
        },
        "id": "Oo8TEudW6xNI",
        "outputId": "60046a1b-d5ab-436f-b00f-b03a4f53ef3b"
      },
      "execution_count": 4,
      "outputs": [
        {
          "output_type": "error",
          "ename": "NameError",
          "evalue": "ignored",
          "traceback": [
            "\u001b[0;31m---------------------------------------------------------------------------\u001b[0m",
            "\u001b[0;31mNameError\u001b[0m                                 Traceback (most recent call last)",
            "\u001b[0;32m<ipython-input-4-598be28e1b90>\u001b[0m in \u001b[0;36m<cell line: 3>\u001b[0;34m()\u001b[0m\n\u001b[1;32m      1\u001b[0m \u001b[0;31m# Retornando uma amostra aleatória de X\u001b[0m\u001b[0;34m\u001b[0m\u001b[0;34m\u001b[0m\u001b[0m\n\u001b[1;32m      2\u001b[0m \u001b[0;34m\u001b[0m\u001b[0m\n\u001b[0;32m----> 3\u001b[0;31m \u001b[0miris\u001b[0m\u001b[0;34m.\u001b[0m\u001b[0msample\u001b[0m\u001b[0;34m(\u001b[0m\u001b[0;36m10\u001b[0m\u001b[0;34m)\u001b[0m\u001b[0;34m\u001b[0m\u001b[0;34m\u001b[0m\u001b[0m\n\u001b[0m",
            "\u001b[0;31mNameError\u001b[0m: name 'iris' is not defined"
          ]
        }
      ]
    },
    {
      "cell_type": "code",
      "source": [
        "# Retorna uma descrição estatistica do dataset\n",
        "\n",
        "iris.describe() "
      ],
      "metadata": {
        "colab": {
          "base_uri": "https://localhost:8080/",
          "height": 200
        },
        "id": "YHNPGDW06zGJ",
        "outputId": "054d3338-4ec6-4a8e-94a0-33d1579c4ebe"
      },
      "execution_count": 5,
      "outputs": [
        {
          "output_type": "error",
          "ename": "NameError",
          "evalue": "ignored",
          "traceback": [
            "\u001b[0;31m---------------------------------------------------------------------------\u001b[0m",
            "\u001b[0;31mNameError\u001b[0m                                 Traceback (most recent call last)",
            "\u001b[0;32m<ipython-input-5-70459c30a2f1>\u001b[0m in \u001b[0;36m<cell line: 3>\u001b[0;34m()\u001b[0m\n\u001b[1;32m      1\u001b[0m \u001b[0;31m# Retorna uma descrição estatistica do dataset\u001b[0m\u001b[0;34m\u001b[0m\u001b[0;34m\u001b[0m\u001b[0m\n\u001b[1;32m      2\u001b[0m \u001b[0;34m\u001b[0m\u001b[0m\n\u001b[0;32m----> 3\u001b[0;31m \u001b[0miris\u001b[0m\u001b[0;34m.\u001b[0m\u001b[0mdescribe\u001b[0m\u001b[0;34m(\u001b[0m\u001b[0;34m)\u001b[0m\u001b[0;34m\u001b[0m\u001b[0;34m\u001b[0m\u001b[0m\n\u001b[0m",
            "\u001b[0;31mNameError\u001b[0m: name 'iris' is not defined"
          ]
        }
      ]
    },
    {
      "cell_type": "code",
      "source": [
        "# Avaliando as características do dataframe\n",
        "\n",
        "iris.info()"
      ],
      "metadata": {
        "colab": {
          "base_uri": "https://localhost:8080/",
          "height": 200
        },
        "id": "XDc6tL6F60P3",
        "outputId": "00d70e2c-056d-4b74-9fb4-c8cf3b63a09a"
      },
      "execution_count": 6,
      "outputs": [
        {
          "output_type": "error",
          "ename": "NameError",
          "evalue": "ignored",
          "traceback": [
            "\u001b[0;31m---------------------------------------------------------------------------\u001b[0m",
            "\u001b[0;31mNameError\u001b[0m                                 Traceback (most recent call last)",
            "\u001b[0;32m<ipython-input-6-0767368a039f>\u001b[0m in \u001b[0;36m<cell line: 3>\u001b[0;34m()\u001b[0m\n\u001b[1;32m      1\u001b[0m \u001b[0;31m# Avaliando as características do dataframe\u001b[0m\u001b[0;34m\u001b[0m\u001b[0;34m\u001b[0m\u001b[0m\n\u001b[1;32m      2\u001b[0m \u001b[0;34m\u001b[0m\u001b[0m\n\u001b[0;32m----> 3\u001b[0;31m \u001b[0miris\u001b[0m\u001b[0;34m.\u001b[0m\u001b[0minfo\u001b[0m\u001b[0;34m(\u001b[0m\u001b[0;34m)\u001b[0m\u001b[0;34m\u001b[0m\u001b[0;34m\u001b[0m\u001b[0m\n\u001b[0m",
            "\u001b[0;31mNameError\u001b[0m: name 'iris' is not defined"
          ]
        }
      ]
    },
    {
      "cell_type": "markdown",
      "source": [
        "### Calculando as medidas estatísticas individualmente"
      ],
      "metadata": {
        "id": "5IFhnpAA65VX"
      }
    },
    {
      "cell_type": "code",
      "source": [
        "# Média da coluna 'sepal length (cm)'\n",
        "\n",
        "media = iris['sepal length (cm)'].mean() \n",
        "print(\"Média \", media)"
      ],
      "metadata": {
        "colab": {
          "base_uri": "https://localhost:8080/",
          "height": 217
        },
        "id": "P09p5VhN66xX",
        "outputId": "2123aadc-658a-4faf-8f66-4994956b783c"
      },
      "execution_count": 7,
      "outputs": [
        {
          "output_type": "error",
          "ename": "NameError",
          "evalue": "ignored",
          "traceback": [
            "\u001b[0;31m---------------------------------------------------------------------------\u001b[0m",
            "\u001b[0;31mNameError\u001b[0m                                 Traceback (most recent call last)",
            "\u001b[0;32m<ipython-input-7-545c7ae1a9b8>\u001b[0m in \u001b[0;36m<cell line: 3>\u001b[0;34m()\u001b[0m\n\u001b[1;32m      1\u001b[0m \u001b[0;31m# Média da coluna 'sepal length (cm)'\u001b[0m\u001b[0;34m\u001b[0m\u001b[0;34m\u001b[0m\u001b[0m\n\u001b[1;32m      2\u001b[0m \u001b[0;34m\u001b[0m\u001b[0m\n\u001b[0;32m----> 3\u001b[0;31m \u001b[0mmedia\u001b[0m \u001b[0;34m=\u001b[0m \u001b[0miris\u001b[0m\u001b[0;34m[\u001b[0m\u001b[0;34m'sepal length (cm)'\u001b[0m\u001b[0;34m]\u001b[0m\u001b[0;34m.\u001b[0m\u001b[0mmean\u001b[0m\u001b[0;34m(\u001b[0m\u001b[0;34m)\u001b[0m\u001b[0;34m\u001b[0m\u001b[0;34m\u001b[0m\u001b[0m\n\u001b[0m\u001b[1;32m      4\u001b[0m \u001b[0mprint\u001b[0m\u001b[0;34m(\u001b[0m\u001b[0;34m\"Média \"\u001b[0m\u001b[0;34m,\u001b[0m \u001b[0mmedia\u001b[0m\u001b[0;34m)\u001b[0m\u001b[0;34m\u001b[0m\u001b[0;34m\u001b[0m\u001b[0m\n",
            "\u001b[0;31mNameError\u001b[0m: name 'iris' is not defined"
          ]
        }
      ]
    },
    {
      "cell_type": "code",
      "source": [
        "# Mediana da coluna 'sepal length (cm)'\n",
        "\n",
        "mediana = iris['sepal length (cm)'].median() \n",
        "print(\"Mediana \", mediana)"
      ],
      "metadata": {
        "id": "QuokyKof68eZ"
      },
      "execution_count": null,
      "outputs": []
    },
    {
      "cell_type": "code",
      "source": [
        "# Moda da coluna 'sepal length (cm)'\n",
        "\n",
        "moda = iris['sepal length (cm)'].mode() \n",
        "print(\"Moda \", moda[0])"
      ],
      "metadata": {
        "id": "qjTsZ6896-FY"
      },
      "execution_count": null,
      "outputs": []
    },
    {
      "cell_type": "code",
      "source": [
        "# Variância da coluna 'sepal length (cm)'\n",
        "\n",
        "variancia = iris['sepal length (cm)'].var() \n",
        "print(\"Variância \", variancia)"
      ],
      "metadata": {
        "id": "MtDUg2pt6_iP"
      },
      "execution_count": null,
      "outputs": []
    },
    {
      "cell_type": "code",
      "source": [
        "# Desvio padrão da coluna 'sepal length (cm)'\n",
        "\n",
        "desvio = iris['sepal length (cm)'].std() \n",
        "print(\"Desvio padrão \", desvio)"
      ],
      "metadata": {
        "id": "LN0DsF-h7A4g"
      },
      "execution_count": null,
      "outputs": []
    },
    {
      "cell_type": "markdown",
      "source": [
        "### Criando algumas visualizações básicas"
      ],
      "metadata": {
        "id": "1IdDRkVS7Cj3"
      }
    },
    {
      "cell_type": "markdown",
      "source": [
        "### Boxplot e histograma por variável"
      ],
      "metadata": {
        "id": "Hzs_TyC77Dy-"
      }
    },
    {
      "cell_type": "markdown",
      "source": [
        "#### Sepal length"
      ],
      "metadata": {
        "id": "nRQ5L6vk7FFe"
      }
    },
    {
      "cell_type": "code",
      "source": [
        "sns.boxplot(data=iris, x='species', y='sepal length (cm)')"
      ],
      "metadata": {
        "colab": {
          "base_uri": "https://localhost:8080/",
          "height": 165
        },
        "id": "jutNJ8rD7GnT",
        "outputId": "6697ff5d-a8f0-4e91-acc9-132143474af4"
      },
      "execution_count": 8,
      "outputs": [
        {
          "output_type": "error",
          "ename": "NameError",
          "evalue": "ignored",
          "traceback": [
            "\u001b[0;31m---------------------------------------------------------------------------\u001b[0m",
            "\u001b[0;31mNameError\u001b[0m                                 Traceback (most recent call last)",
            "\u001b[0;32m<ipython-input-8-d80efac0886b>\u001b[0m in \u001b[0;36m<cell line: 1>\u001b[0;34m()\u001b[0m\n\u001b[0;32m----> 1\u001b[0;31m \u001b[0msns\u001b[0m\u001b[0;34m.\u001b[0m\u001b[0mboxplot\u001b[0m\u001b[0;34m(\u001b[0m\u001b[0mdata\u001b[0m\u001b[0;34m=\u001b[0m\u001b[0miris\u001b[0m\u001b[0;34m,\u001b[0m \u001b[0mx\u001b[0m\u001b[0;34m=\u001b[0m\u001b[0;34m'species'\u001b[0m\u001b[0;34m,\u001b[0m \u001b[0my\u001b[0m\u001b[0;34m=\u001b[0m\u001b[0;34m'sepal length (cm)'\u001b[0m\u001b[0;34m)\u001b[0m\u001b[0;34m\u001b[0m\u001b[0;34m\u001b[0m\u001b[0m\n\u001b[0m",
            "\u001b[0;31mNameError\u001b[0m: name 'iris' is not defined"
          ]
        }
      ]
    },
    {
      "cell_type": "code",
      "source": [
        "sns.histplot(data=iris, x='sepal length (cm)', bins=30, kde=True) "
      ],
      "metadata": {
        "id": "tcZQ4pO67J_P"
      },
      "execution_count": null,
      "outputs": []
    },
    {
      "cell_type": "markdown",
      "source": [
        "**Dica**: podemos e devemos sempre \"experimentar\"  com a quantidade de caixinhas do histograma, para termos uma melhor ideia do comportamento estatístico efetivo da variável."
      ],
      "metadata": {
        "id": "H4nB6a_R7NPv"
      }
    },
    {
      "cell_type": "markdown",
      "source": [
        "#### Sepal width"
      ],
      "metadata": {
        "id": "86Y8hD3o7P2-"
      }
    },
    {
      "cell_type": "code",
      "source": [
        "sns.boxplot(data=iris, x='species', y='sepal width (cm)')"
      ],
      "metadata": {
        "id": "bFSL_cTX7O1o"
      },
      "execution_count": null,
      "outputs": []
    },
    {
      "cell_type": "code",
      "source": [
        "sns.histplot(data=iris, x='sepal width (cm)', bins=30, kde=True) "
      ],
      "metadata": {
        "id": "u0VIErpu7Ss2"
      },
      "execution_count": null,
      "outputs": []
    },
    {
      "cell_type": "markdown",
      "source": [
        "#### Petal length"
      ],
      "metadata": {
        "id": "PQhF_Oyy7UcF"
      }
    },
    {
      "cell_type": "code",
      "source": [
        "sns.boxplot(data=iris, x='species', y='petal length (cm)')"
      ],
      "metadata": {
        "id": "q030s6Eo7WUv"
      },
      "execution_count": null,
      "outputs": []
    },
    {
      "cell_type": "code",
      "source": [
        "sns.histplot(data=iris, x='petal length (cm)', bins=30, kde=True) "
      ],
      "metadata": {
        "id": "Gfg8BosS7X_P"
      },
      "execution_count": null,
      "outputs": []
    },
    {
      "cell_type": "markdown",
      "source": [
        "#### Petal width"
      ],
      "metadata": {
        "id": "86fX9NkC7ZsP"
      }
    },
    {
      "cell_type": "code",
      "source": [
        "sns.boxplot(data=iris, x='species', y='petal width (cm)')"
      ],
      "metadata": {
        "colab": {
          "base_uri": "https://localhost:8080/",
          "height": 165
        },
        "id": "EsK6cp7m7bGe",
        "outputId": "9c267da8-0730-486f-8060-12776b904f94"
      },
      "execution_count": 9,
      "outputs": [
        {
          "output_type": "error",
          "ename": "NameError",
          "evalue": "ignored",
          "traceback": [
            "\u001b[0;31m---------------------------------------------------------------------------\u001b[0m",
            "\u001b[0;31mNameError\u001b[0m                                 Traceback (most recent call last)",
            "\u001b[0;32m<ipython-input-9-2f47857c2677>\u001b[0m in \u001b[0;36m<cell line: 1>\u001b[0;34m()\u001b[0m\n\u001b[0;32m----> 1\u001b[0;31m \u001b[0msns\u001b[0m\u001b[0;34m.\u001b[0m\u001b[0mboxplot\u001b[0m\u001b[0;34m(\u001b[0m\u001b[0mdata\u001b[0m\u001b[0;34m=\u001b[0m\u001b[0miris\u001b[0m\u001b[0;34m,\u001b[0m \u001b[0mx\u001b[0m\u001b[0;34m=\u001b[0m\u001b[0;34m'species'\u001b[0m\u001b[0;34m,\u001b[0m \u001b[0my\u001b[0m\u001b[0;34m=\u001b[0m\u001b[0;34m'petal width (cm)'\u001b[0m\u001b[0;34m)\u001b[0m\u001b[0;34m\u001b[0m\u001b[0;34m\u001b[0m\u001b[0m\n\u001b[0m",
            "\u001b[0;31mNameError\u001b[0m: name 'iris' is not defined"
          ]
        }
      ]
    },
    {
      "cell_type": "code",
      "source": [
        "sns.histplot(data=iris, x='petal width (cm)', bins=30, kde=True) "
      ],
      "metadata": {
        "id": "Tl_nFNQy7cdl"
      },
      "execution_count": null,
      "outputs": []
    },
    {
      "cell_type": "markdown",
      "source": [
        "#### Podemos colocar todos os dados em um único histograma, mantendo a legibilidade?"
      ],
      "metadata": {
        "id": "I_QN7csI7fbN"
      }
    },
    {
      "cell_type": "code",
      "source": [
        "sns.histplot(data=iris, x='petal length (cm)', bins=30, kde=True, hue='species', element=\"step\")"
      ],
      "metadata": {
        "id": "74qFxSPm7hD1"
      },
      "execution_count": null,
      "outputs": []
    },
    {
      "cell_type": "markdown",
      "source": [
        "#### Fazendo uma Matriz de Diagramas de Dispersão"
      ],
      "metadata": {
        "id": "74Z22DE07iuV"
      }
    },
    {
      "cell_type": "code",
      "source": [
        "sns.pairplot(data=iris, hue='species')"
      ],
      "metadata": {
        "id": "oXtocvL17kIL"
      },
      "execution_count": null,
      "outputs": []
    },
    {
      "cell_type": "markdown",
      "source": [
        "#### Finalmente, utilizando uma biblioteca que nos ajuda automatizando o processo do EDA, a **SweetViz**."
      ],
      "metadata": {
        "id": "NrESMYCS7mKc"
      }
    },
    {
      "cell_type": "code",
      "source": [
        "# Instalando o SweetViz no ambiente do Colab\n",
        "\n",
        "!pip install sweetviz"
      ],
      "metadata": {
        "id": "s-k0i9GS7nYE"
      },
      "execution_count": null,
      "outputs": []
    },
    {
      "cell_type": "code",
      "source": [
        "import sweetviz as sv\n",
        "\n",
        "iris_report = sv.analyze(iris)\n",
        "\n",
        "iris_report.show_html()"
      ],
      "metadata": {
        "id": "n9FY0ZxP7o0G"
      },
      "execution_count": null,
      "outputs": []
    },
    {
      "cell_type": "markdown",
      "source": [
        "# Análise Exploratória de Dados\n",
        "## AdventureWorks Dataset\n",
        "\n",
        "Autor: Tiago Dias (adaptado)"
      ],
      "metadata": {
        "id": "gO4uS0Bq7tW0"
      }
    },
    {
      "cell_type": "markdown",
      "source": [
        "Aqui, vamos fazer a manipulação e análise dos dados de um dataset de vendas, onde temos informações de vendas dos anos 2008 e 2009."
      ],
      "metadata": {
        "id": "t30WLav07ziF"
      }
    },
    {
      "cell_type": "code",
      "source": [
        "# Importando bibliotecas\n",
        "\n",
        "import pandas as pd\n",
        "import matplotlib.pyplot as plt\n",
        "import seaborn as sns"
      ],
      "metadata": {
        "id": "ooerby487017"
      },
      "execution_count": null,
      "outputs": []
    },
    {
      "cell_type": "code",
      "source": [
        "# Importando dados com pandas direto do GitHub\n",
        "\n",
        "df = pd.read_excel('AdventureWorks.xlsx')"
      ],
      "metadata": {
        "id": "QX5iF4Iz72R0"
      },
      "execution_count": null,
      "outputs": []
    },
    {
      "cell_type": "code",
      "source": [
        "# Exibindo os primeiros registros\n",
        "\n",
        "df.head()"
      ],
      "metadata": {
        "id": "dW06UTZ273RG"
      },
      "execution_count": null,
      "outputs": []
    },
    {
      "cell_type": "markdown",
      "source": [
        "## Análise da Estrutura dos Dados"
      ],
      "metadata": {
        "id": "O5sk_bJS75VL"
      }
    },
    {
      "cell_type": "markdown",
      "source": [
        "Vamos fazer uma verificação na estrutura dos dados carregados. Analisar os tipos de dados, o tamanho do dataset e os dados nulos."
      ],
      "metadata": {
        "id": "XU7BXRnk760z"
      }
    },
    {
      "cell_type": "code",
      "source": [
        "# Verificando as colunas do dataset\n",
        "\n",
        "df.columns"
      ],
      "metadata": {
        "id": "jhTikrqm78EH"
      },
      "execution_count": null,
      "outputs": []
    },
    {
      "cell_type": "code",
      "source": [
        "# Consultando detalhes do dataframe\n",
        "\n",
        "df.info()"
      ],
      "metadata": {
        "id": "28HYjArP79U0"
      },
      "execution_count": null,
      "outputs": []
    },
    {
      "cell_type": "code",
      "source": [
        "# Tamanho do dataset\n",
        "\n",
        "df.shape"
      ],
      "metadata": {
        "id": "peTHeie57-oz"
      },
      "execution_count": null,
      "outputs": []
    },
    {
      "cell_type": "code",
      "source": [
        "print('O dataset possui',df.shape[0], 'registros e', df.shape[1], 'atributos.')"
      ],
      "metadata": {
        "id": "x3LZpEpD7_-7"
      },
      "execution_count": null,
      "outputs": []
    },
    {
      "cell_type": "code",
      "source": [
        "# Descrição estatística básica das variáveis numéricas\n",
        "df.describe()"
      ],
      "metadata": {
        "id": "ZV3-zn7B8BYc"
      },
      "execution_count": null,
      "outputs": []
    },
    {
      "cell_type": "code",
      "source": [
        "# Verificando a existëncia de dados nulos\n",
        "\n",
        "df.isna().sum()"
      ],
      "metadata": {
        "id": "D2OK7_zw8CcT"
      },
      "execution_count": null,
      "outputs": []
    },
    {
      "cell_type": "markdown",
      "source": [
        "## Análise para Enriquecimento dos Dados"
      ],
      "metadata": {
        "id": "aiNNpiCL8ENB"
      }
    },
    {
      "cell_type": "markdown",
      "source": [
        "Com todos os atributos que vimos acima referente as vendas dos produtos, podemos identificar novos atributos que vão enriquecer a nossa exploração dos dados. Vamos criar algumas novas colunas no dataset com base nas colunas existentes."
      ],
      "metadata": {
        "id": "PUfLLCbE8GOr"
      }
    },
    {
      "cell_type": "code",
      "source": [
        "# Verificando a linha 1 do dataframe\n",
        "df.head(1)"
      ],
      "metadata": {
        "id": "dl6_aghZ8Fi7"
      },
      "execution_count": null,
      "outputs": []
    },
    {
      "cell_type": "code",
      "source": [
        "# Dias de envio da compra\n",
        "df['Dias de Envio'] = df['Data Envio'] - df['Data Venda']"
      ],
      "metadata": {
        "id": "8Z-QGQ7y8IML"
      },
      "execution_count": null,
      "outputs": []
    },
    {
      "cell_type": "code",
      "source": [
        "# Custo total do produto\n",
        "df['Custo Total'] = df['Custo Unitário'] * df['Quantidade']"
      ],
      "metadata": {
        "id": "8LlXovG68K6T"
      },
      "execution_count": null,
      "outputs": []
    },
    {
      "cell_type": "code",
      "source": [
        "# Lucro bruto da venda\n",
        "df['Lucro Bruto'] = df['Valor Venda'] - df['Custo Total']"
      ],
      "metadata": {
        "id": "yDe_ZeKi8MOD"
      },
      "execution_count": null,
      "outputs": []
    },
    {
      "cell_type": "code",
      "source": [
        "# Lucro líquido da venda\n",
        "df['Lucro Líquido'] = df['Lucro Bruto'] - df['Valor Desconto']"
      ],
      "metadata": {
        "id": "PEbU0cUe8Ner"
      },
      "execution_count": null,
      "outputs": []
    },
    {
      "cell_type": "code",
      "source": [
        "# Percentual do Lucro bruto da venda\n",
        "df['% Lucro Bruto'] = ( 1 - ( df['Custo Total'] / df['Valor Venda'] ) ) * 100"
      ],
      "metadata": {
        "id": "Vgp7igHd8Ouo"
      },
      "execution_count": null,
      "outputs": []
    },
    {
      "cell_type": "code",
      "source": [
        "# Percentual do Lucro líquido da venda\n",
        "df['% Lucro Líquido'] = ( 1 - ( df['Custo Total'] / ( df['Valor Venda'] - df['Valor Desconto'] ) ) )*100"
      ],
      "metadata": {
        "id": "28AgxTdL8QL7"
      },
      "execution_count": null,
      "outputs": []
    },
    {
      "cell_type": "code",
      "source": [
        "# Verificando novamente as primeiras observações\n",
        "\n",
        "df.head()"
      ],
      "metadata": {
        "id": "ox71BC8W8R_N"
      },
      "execution_count": null,
      "outputs": []
    },
    {
      "cell_type": "markdown",
      "source": [
        "## Análise para o Negócio"
      ],
      "metadata": {
        "id": "rMI7R7gq8T93"
      }
    },
    {
      "cell_type": "markdown",
      "source": [
        "Se os dados não resolverem problemas do negócio, eles não estão sendo coletados corretamente ou estamos olhando para os dados errados. Sendo assim, os dados precisam conseguir responder algumas dúvidas do negócio. Então, vamos criar algumas perguntas sobre os dados que estamos explorando."
      ],
      "metadata": {
        "id": "nupQxCgq8VNe"
      }
    },
    {
      "cell_type": "markdown",
      "source": [
        "### Quais são os produtos?"
      ],
      "metadata": {
        "id": "ccVTevQ58WZC"
      }
    },
    {
      "cell_type": "code",
      "source": [
        "# Contagem de venda por produto\n",
        "\n",
        "df['Produto'].value_counts()"
      ],
      "metadata": {
        "id": "MWc0n8NE8Xy7"
      },
      "execution_count": null,
      "outputs": []
    },
    {
      "cell_type": "code",
      "source": [
        "# Contagem de produtos vendidos\n",
        "\n",
        "df.groupby('Produto')['Quantidade'].sum().sort_values(ascending=False)"
      ],
      "metadata": {
        "id": "rMUCVppI8Y-j"
      },
      "execution_count": null,
      "outputs": []
    },
    {
      "cell_type": "markdown",
      "source": [
        "### Quais são as lojas?"
      ],
      "metadata": {
        "id": "AADQJevL8aI7"
      }
    },
    {
      "cell_type": "code",
      "source": [
        "# Lojas únicas\n",
        "df['ID Loja'].unique()"
      ],
      "metadata": {
        "id": "bQMK4Jzx8cYk"
      },
      "execution_count": null,
      "outputs": []
    },
    {
      "cell_type": "markdown",
      "source": [
        "### Quantas lojas temos?"
      ],
      "metadata": {
        "id": "5DWjfAmE8eXL"
      }
    },
    {
      "cell_type": "code",
      "source": [
        "# Quantidade de lojas únicas\n",
        "len(df['ID Loja'].unique())"
      ],
      "metadata": {
        "id": "hdvOsFy58fna"
      },
      "execution_count": null,
      "outputs": []
    },
    {
      "cell_type": "markdown",
      "source": [
        "### Qual a primeira e última datas de venda?"
      ],
      "metadata": {
        "id": "IV_JQhj58hAq"
      }
    },
    {
      "cell_type": "code",
      "source": [
        "# Menor data no conjuto de dados\n",
        "df['Data Venda'].min()"
      ],
      "metadata": {
        "id": "cylTuzmK8iN5"
      },
      "execution_count": null,
      "outputs": []
    },
    {
      "cell_type": "code",
      "source": [
        "# Maior data no conjuto de dados\n",
        "df['Data Venda'].max()"
      ],
      "metadata": {
        "id": "ByTLQVo-8jgJ"
      },
      "execution_count": null,
      "outputs": []
    },
    {
      "cell_type": "markdown",
      "source": [
        "### Quais são os valores médios por produto?"
      ],
      "metadata": {
        "id": "n8hDwKZq8k2p"
      }
    },
    {
      "cell_type": "code",
      "source": [
        "# Agrupamento dos valores médios por produtos\n",
        "valores = ['Produto', 'Valor Desconto', 'Valor Venda', \n",
        "           'Custo Total', 'Lucro Bruto', 'Lucro Líquido',\n",
        "           '% Lucro Bruto', '% Lucro Líquido']\n",
        "df[valores].groupby(['Produto']).mean()"
      ],
      "metadata": {
        "id": "xuBTYF-S8mYK"
      },
      "execution_count": null,
      "outputs": []
    },
    {
      "cell_type": "markdown",
      "source": [
        "### Quais são os valores totais?"
      ],
      "metadata": {
        "id": "MSOgCMUk8nnJ"
      }
    },
    {
      "cell_type": "code",
      "source": [
        "# Somando os valores totais\n",
        "total_descontos = df['Valor Desconto'].sum()\n",
        "total_vendas = df['Valor Venda'].sum()\n",
        "total_custos = df['Custo Total'].sum()\n",
        "total_lucro_bruto = df['Lucro Bruto'].sum()\n",
        "total_lucro_liquido = df['Lucro Líquido'].sum()"
      ],
      "metadata": {
        "id": "QWF18k138pF5"
      },
      "execution_count": null,
      "outputs": []
    },
    {
      "cell_type": "code",
      "source": [
        "# Usando a função currency da biblioteca locale para formatar o valor\n",
        "import locale\n",
        "locale.setlocale(locale.LC_MONETARY, 'en_US.utf8')\n",
        "\n",
        "print('Total de descontos foi ---->',locale.currency(total_descontos, grouping=True))\n",
        "print('Total de vendas foi ------->',locale.currency(total_vendas, grouping=True))\n",
        "print('Total de custos foi ------->',locale.currency(total_custos, grouping=True))\n",
        "print('Lucro bruto foi ----------->',locale.currency(total_lucro_bruto, grouping=True))\n",
        "print('Lucro líquido foi --------->',locale.currency(total_lucro_liquido, grouping=True))"
      ],
      "metadata": {
        "id": "uRwSeTxO8qWE"
      },
      "execution_count": null,
      "outputs": []
    },
    {
      "cell_type": "markdown",
      "source": [
        "## Análise Gráfica dos Dados"
      ],
      "metadata": {
        "id": "fpSVwdMJ8sN9"
      }
    },
    {
      "cell_type": "markdown",
      "source": [
        "Nada mais claro para entender os dados e gerar insights do que visualizações gráficas. Então vamos criar alguns gráficos para continuar a nossa exploração dos dados. Agora as bibliotecas gráficas do Python vão ser muito úteis."
      ],
      "metadata": {
        "id": "oUA_Sfxj8t8Z"
      }
    },
    {
      "cell_type": "code",
      "source": [
        "# Configurações dos gráficos\n",
        "\n",
        "plt.rcParams['figure.figsize'] = (15,10)\n",
        "plt.rcParams['xtick.labelsize'] = 10\n",
        "plt.rcParams['ytick.labelsize'] = 10\n",
        "plt.rcParams['font.size'] = 15 \n",
        "plt.rcParams['axes.titlesize'] = 20"
      ],
      "metadata": {
        "id": "iFqtaRp38vRR"
      },
      "execution_count": null,
      "outputs": []
    },
    {
      "cell_type": "code",
      "source": [
        "# Identificando outliers nos valores de vendas\n",
        "\n",
        "sns.boxplot(x = df['Valor Venda'])"
      ],
      "metadata": {
        "id": "joU3635g8wix"
      },
      "execution_count": null,
      "outputs": []
    },
    {
      "cell_type": "code",
      "source": [
        "# Identificando as quantidades dos dias de envio\n",
        "\n",
        "x = df['Dias de Envio'].value_counts().values\n",
        "y = df['Dias de Envio'].value_counts().index\n",
        "sns.barplot(x=x, y=y) "
      ],
      "metadata": {
        "id": "o_7wrun98yC5"
      },
      "execution_count": null,
      "outputs": []
    },
    {
      "cell_type": "code",
      "source": [
        "# Mapa de correlação das variáveis numéricas\n",
        "\n",
        "sns.heatmap(df.corr(), annot=True, cmap=\"PiYG\")"
      ],
      "metadata": {
        "id": "6znGsegR8zqx"
      },
      "execution_count": null,
      "outputs": []
    },
    {
      "cell_type": "code",
      "source": [
        "#Selecionando apenas as vendas de 2008\n",
        "\n",
        "df_2008 = df[df[\"Data Venda\"].dt.year == 2008]\n",
        "\n",
        "#Selecionando apenas as vendas de 2009\n",
        "\n",
        "df_2009 = df[df[\"Data Venda\"].dt.year == 2009]"
      ],
      "metadata": {
        "id": "deHcZ3sm81La"
      },
      "execution_count": null,
      "outputs": []
    },
    {
      "cell_type": "code",
      "source": [
        "# Comparativo de lucro bruto por mês\n",
        "\n",
        "df_2008.groupby(df_2008[\"Data Venda\"].dt.month)[\"Lucro Bruto\"].sum().plot(color='red', label='Ano 2008')\n",
        "df_2009.groupby(df_2009[\"Data Venda\"].dt.month)[\"Lucro Bruto\"].sum().plot(color='green', label='Ano 2009')\n",
        "plt.title(\"Lucro x Mês\")\n",
        "plt.xlabel(\"Mês\")\n",
        "plt.ylabel(\"Lucro Bruto\")\n",
        "plt.legend()"
      ],
      "metadata": {
        "id": "HD8KqpZb82np"
      },
      "execution_count": null,
      "outputs": []
    }
  ]
}